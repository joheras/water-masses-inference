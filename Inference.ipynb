{
 "cells": [
  {
   "cell_type": "markdown",
   "id": "dfef3f1b",
   "metadata": {},
   "source": [
    "# Notebook for predicting water masses\n",
    "\n",
    "We first load the necessary libraries and download the model. "
   ]
  },
  {
   "cell_type": "code",
   "execution_count": null,
   "id": "1bf74554",
   "metadata": {},
   "outputs": [],
   "source": [
    "from joblib import load\n",
    "import matplotlib.pyplot as plt"
   ]
  },
  {
   "cell_type": "code",
   "execution_count": null,
   "id": "b63a3fb6",
   "metadata": {},
   "outputs": [],
   "source": [
    "!wget https://github.com/joheras/water-masses-inference/releases/download/v1.0/model_regr_et_combined.joblib -O model_regr_et_combined.joblib"
   ]
  },
  {
   "cell_type": "markdown",
   "id": "f7cab9f2",
   "metadata": {},
   "source": [
    "Now, we load the model, and define the labels for prediction. "
   ]
  },
  {
   "cell_type": "code",
   "execution_count": null,
   "id": "2d3bdbac",
   "metadata": {},
   "outputs": [],
   "source": [
    "model = load('model_regr_et_combined.joblib') \n",
    "labels = ['EDW','ENACW12', 'WNACW7', 'SPMW', 'SACWT12', 'SACWE12', 'WW', 'AAIW5','AAIW3', 'MW', 'LSW', 'ISOW', 'DSOW', 'CDW', 'WSDW', 'SAIW']"
   ]
  },
  {
   "cell_type": "markdown",
   "id": "3fcbaa7b",
   "metadata": {},
   "source": [
    "You can modify the following values to obtain the predictions."
   ]
  },
  {
   "cell_type": "code",
   "execution_count": null,
   "id": "87d59e08",
   "metadata": {},
   "outputs": [],
   "source": [
    "Latitude= -57.4997\n",
    "Longitude= -31.5992\n",
    "CTDPRS= 347.9\n",
    "CTDPOT= 1.8694\n",
    "CTDSAL= 34.587 "
   ]
  },
  {
   "cell_type": "markdown",
   "id": "961cc62b",
   "metadata": {},
   "source": [
    "Finally, we obtain the predictions."
   ]
  },
  {
   "cell_type": "code",
   "execution_count": null,
   "id": "46116dee",
   "metadata": {},
   "outputs": [],
   "source": [
    "prediction = model.predict([[Latitude,Longitude,CTDPRS,CTDPOT, CTDSAL]])\n",
    "probs = prediction[0]\n",
    "res = {labels[i]: float(probs[i])*100 for i in range(len(labels))}\n",
    "plt.bar(*zip(*res.items()))\n",
    "plt.xticks(rotation=90)\n",
    "plt.show()\n",
    "print(res)"
   ]
  }
 ],
 "metadata": {
  "kernelspec": {
   "display_name": "Python 3 (ipykernel)",
   "language": "python",
   "name": "python3"
  },
  "language_info": {
   "codemirror_mode": {
    "name": "ipython",
    "version": 3
   },
   "file_extension": ".py",
   "mimetype": "text/x-python",
   "name": "python",
   "nbconvert_exporter": "python",
   "pygments_lexer": "ipython3",
   "version": "3.8.10"
  }
 },
 "nbformat": 4,
 "nbformat_minor": 5
}
