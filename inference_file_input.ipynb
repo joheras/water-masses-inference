{
 "cells": [
  {
   "cell_type": "markdown",
   "metadata": {},
   "source": [
    "# Notebook for predicting water masses from a  file with samples data\n"
   ]
  },
  {
   "cell_type": "code",
   "execution_count": null,
   "metadata": {},
   "outputs": [],
   "source": [
    "from joblib import load\n",
    "import csv\n",
    "import sklearn #version 1.1.2 or superior required"
   ]
  },
  {
   "cell_type": "markdown",
   "metadata": {},
   "source": [
    "If you need to upgrade sklearn you can do it by the following command. WARNING: This might depend on your system configuration.\n",
    "\n",
    "!pip install scikit-learn==1.1.2"
   ]
  },
  {
   "cell_type": "markdown",
   "metadata": {},
   "source": [
    "We download the model. WARNING: large file, approx. 319Mb\n",
    "\n",
    "This step is only necessary if you don't have the model already downloaded.\n",
    "\n",
    "The following command downloads it using wget. In case you don't have wget in your system, you can either install it or directly download the model from the following url:\n",
    "https://github.com/joheras/water-masses-inference/releases/download/v1.0/model_regr_et_combined.joblib\n",
    "\n",
    "Once downloaded, place it in the same folder in which you have this script."
   ]
  },
  {
   "cell_type": "code",
   "execution_count": null,
   "metadata": {},
   "outputs": [],
   "source": [
    "!wget https://github.com/joheras/water-masses-inference/releases/download/v1.0/model_regr_et_combined.joblib -O model_regr_et_combined.joblib   "
   ]
  },
  {
   "cell_type": "markdown",
   "metadata": {},
   "source": [
    "Once the model file is downloaded, we load it into the system"
   ]
  },
  {
   "cell_type": "code",
   "execution_count": 2,
   "metadata": {},
   "outputs": [],
   "source": [
    "model = load('model_regr_et_combined.joblib') "
   ]
  },
  {
   "cell_type": "markdown",
   "metadata": {},
   "source": [
    "Your data should be in a csv file called 'input_file.csv', if the name of your file is different, just change 'input_file.csv' in the code below. This file must have columns named Latitude (in decimal degrees), Longitude (in decimal degrees), CTDPRS (depth in meters), CTDPOT (potential temperature in Celsius degrees) and CTDSAL (salinity) with the corresponding data. The file should be placed in the same folder in which you have this script (otherwise, indicate the complete path).\n",
    "\n",
    "A csv file named 'output_file.csv' will be produced, containing your original input file plus added columns named according to the 15 water masses used in the model."
   ]
  },
  {
   "cell_type": "code",
   "execution_count": 4,
   "metadata": {},
   "outputs": [],
   "source": [
    "labels = ['EDW','ENACW12', 'WNACW7', 'SPMW', 'SACWT12', 'SACWE12', 'WW', 'AAIW5','AAIW3', 'MW', 'LSW', 'ISOW', 'DSOW', 'CDW', 'WSDW', 'SAIW']\n",
    "with open('input_file.csv', newline='') as csvfile:\n",
    " with open('output_file.csv', 'w') as f:\n",
    "  mywriter = csv.writer(f, delimiter=',',quotechar='|', quoting=csv.QUOTE_MINIMAL)\n",
    "  #mywriter.writerow(labels)\n",
    "  data = csv.DictReader(csvfile)\n",
    "  input_labels= data.fieldnames\n",
    "  mywriter.writerow(input_labels+labels)\n",
    "  for row in data:\n",
    "   prediction = model.predict([[row['Latitude'],row['Longitude'],row['CTDPRS'],row['CTDPOT'],row['CTDSAL']]])\n",
    "   probs = prediction[0]\n",
    "   res = {labels[i]: float(probs[i])*100 for i in range(len(labels))}\n",
    "   row.update(res)\n",
    "   w = csv.DictWriter(f, row.keys())\n",
    "   w.writerow(row)"
   ]
  },
  {
   "cell_type": "code",
   "execution_count": null,
   "metadata": {},
   "outputs": [],
   "source": []
  }
 ],
 "metadata": {
  "kernelspec": {
   "display_name": "Python 3 (ipykernel)",
   "language": "python",
   "name": "python3"
  },
  "language_info": {
   "codemirror_mode": {
    "name": "ipython",
    "version": 3
   },
   "file_extension": ".py",
   "mimetype": "text/x-python",
   "name": "python",
   "nbconvert_exporter": "python",
   "pygments_lexer": "ipython3",
   "version": "3.8.10"
  }
 },
 "nbformat": 4,
 "nbformat_minor": 4
}
